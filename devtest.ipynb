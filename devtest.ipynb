{
 "cells": [
  {
   "cell_type": "markdown",
   "metadata": {},
   "source": []
  },
  {
   "cell_type": "code",
   "execution_count": 1,
   "metadata": {},
   "outputs": [],
   "source": [
    "import selenium "
   ]
  },
  {
   "cell_type": "code",
   "execution_count": 2,
   "metadata": {},
   "outputs": [],
   "source": [
    "from selenium.webdriver import Chrome"
   ]
  },
  {
   "cell_type": "code",
   "execution_count": 8,
   "metadata": {},
   "outputs": [],
   "source": [
    "driver = Chrome()\n",
    "driver.get(\"https://www.google.com\")"
   ]
  },
  {
   "cell_type": "code",
   "execution_count": 10,
   "metadata": {},
   "outputs": [
    {
     "name": "stdout",
     "output_type": "stream",
     "text": [
      "\n"
     ]
    },
    {
     "name": "stderr",
     "output_type": "stream",
     "text": [
      "[WDM] - ====== WebDriver manager ======\n",
      "[WDM] - Current google-chrome version is 102.0.5005\n",
      "[WDM] - Get LATEST chromedriver version for 102.0.5005 google-chrome\n",
      "[WDM] - Driver [/home/clark/.wdm/drivers/chromedriver/linux64/102.0.5005.61/chromedriver] found in cache\n",
      "/tmp/ipykernel_15652/1329945685.py:2: DeprecationWarning: executable_path has been deprecated, please pass in a Service object\n",
      "  driver = Chrome(ChromeDriverManager().install())\n"
     ]
    }
   ],
   "source": [
    "from webdriver_manager.chrome import ChromeDriverManager\n",
    "driver = Chrome(ChromeDriverManager().install())\n",
    "driver.get(\"https://www.python.org\")"
   ]
  },
  {
   "cell_type": "code",
   "execution_count": null,
   "metadata": {},
   "outputs": [],
   "source": [
    "import requests\n"
   ]
  },
  {
   "cell_type": "code",
   "execution_count": 49,
   "metadata": {},
   "outputs": [],
   "source": [
    "r = requests.get('https://en.wikipedia.org/wiki/Koala')\n",
    "text = r.text\n"
   ]
  },
  {
   "cell_type": "code",
   "execution_count": 43,
   "metadata": {},
   "outputs": [
    {
     "data": {
      "text/plain": [
       "'The word koala comes from the Dharug gula, meaning no water.  Although the vowel \\'u\\' was originally written in the English orthography as \"oo\" (in spellings such as coola or koolah — two syllables), later became \"oa\" and is now pronounced in three syllables, possibly in error.[4]\\n'"
      ]
     },
     "execution_count": 43,
     "metadata": {},
     "output_type": "execute_result"
    }
   ],
   "source": [
    "from bs4 import BeautifulSoup\n",
    "soup = BeautifulSoup(text, \"html.parser\")\n",
    "span = soup.find('span', {'id': 'Etymology'})\n",
    "h2 = span.findParent()\n",
    "p = h2.find_next_sibling()\n",
    "p.text\n"
   ]
  },
  {
   "cell_type": "code",
   "execution_count": 69,
   "metadata": {},
   "outputs": [
    {
     "name": "stdout",
     "output_type": "stream",
     "text": [
      "\n"
     ]
    },
    {
     "name": "stderr",
     "output_type": "stream",
     "text": [
      "[WDM] - ====== WebDriver manager ======\n",
      "[WDM] - Current google-chrome version is 102.0.5005\n",
      "[WDM] - Get LATEST chromedriver version for 102.0.5005 google-chrome\n",
      "[WDM] - Driver [/home/clark/.wdm/drivers/chromedriver/linux64/102.0.5005.61/chromedriver] found in cache\n",
      "/tmp/ipykernel_15652/2133546873.py:9: DeprecationWarning: executable_path has been deprecated, please pass in a Service object\n",
      "  driver = Chrome(ChromeDriverManager().install(), options=options)\n"
     ]
    }
   ],
   "source": [
    "from selenium.webdriver import Chrome\n",
    "from webdriver_manager.chrome import ChromeDriverManager\n",
    "from selenium.webdriver.common.by import By\n",
    "from selenium.webdriver.chrome.options import Options\n",
    "\n",
    "options = Options()\n",
    "options.add_argument('--headless')\n",
    "\n",
    "driver = Chrome(ChromeDriverManager().install(), options=options)\n",
    "driver.get('https://en.wikipedia.org/wiki/Dog')\n"
   ]
  },
  {
   "cell_type": "code",
   "execution_count": 70,
   "metadata": {},
   "outputs": [],
   "source": [
    "#driver.find_element(By.XPATH, '/html/body/div[3]/div[3]/div[1]')\n",
    "searchbar = driver.find_element(By.ID, 'searchInput')"
   ]
  },
  {
   "cell_type": "code",
   "execution_count": 66,
   "metadata": {},
   "outputs": [],
   "source": [
    "searchbar.click()\n",
    "searchbar.send_keys('dog')\n",
    "searchbar.send_keys()"
   ]
  },
  {
   "cell_type": "code",
   "execution_count": 71,
   "metadata": {},
   "outputs": [],
   "source": [
    "driver.quit()"
   ]
  },
  {
   "cell_type": "code",
   "execution_count": 9,
   "metadata": {},
   "outputs": [
    {
     "name": "stdout",
     "output_type": "stream",
     "text": [
      "['https://www.haystravel.co.uk/servigroup-pueblo-benidorm', 'servigroup-pueblo-benidorm', UUID('603d38ee-827a-435a-8e0b-63dd3086c5e1')]\n"
     ]
    }
   ],
   "source": [
    "from uuid import uuid4 \n",
    "\n",
    "class Holiday:\n",
    "    def __init__(self, url):\n",
    "        self.url = url\n",
    "        self.deterministic_id = url.replace(\"https://www.haystravel.co.uk/\",\"\")\n",
    "        self.uuid = uuid4()\n",
    "\n",
    "    def holiday_details(self):\n",
    "        holiday_details = [self.url, self.deterministic_id, self.uuid]\n",
    "        return holiday_details\n",
    "\n",
    "url = \"https://www.haystravel.co.uk/servigroup-pueblo-benidorm\"\n",
    "test_holiday = Holiday(url)\n",
    "test_holiday.holiday_details()\n",
    "print(test_holiday.holiday_details())"
   ]
  },
  {
   "cell_type": "code",
   "execution_count": null,
   "metadata": {},
   "outputs": [],
   "source": [
    "from selenium.webdriver.support.ui import WebDriverWait\n",
    "from selenium.webdriver.support import expected_conditions as EC\n",
    "from selenium.webdriver import Chrome\n",
    "from selenium.webdriver.common.by import By\n",
    "from selenium.webdriver.chrome.options import Options\n",
    "from webdriver_manager.chrome import ChromeDriverManager\n",
    "from selenium.webdriver.chrome.service import Service\n",
    "import pprint\n",
    "import uuid\n",
    "\n",
    "\n",
    "dict_of_countries = {\"Spain\": \"https\"}"
   ]
  },
  {
   "cell_type": "code",
   "execution_count": null,
   "metadata": {},
   "outputs": [],
   "source": [
    "    def get_holidays_by_country(self, dict_of_countries:dict):\n",
    "        '''\n",
    "        Takes the country url dict and gets all the holidays hrefs from the urls for the countries\n",
    "\n",
    "        '''\n",
    "\n",
    "        #using the keys of the original dict\n",
    "        list_of_countries = dict_of_countries.keys()\n",
    "        countries_without_holidays = []\n",
    "\n",
    "        for country in list_of_countries:\n",
    "            list_of_holidays = []\n",
    "            #get each url within the original dict, using the key\n",
    "            current_country_url = dict_of_countries[country]\n",
    "            self.driver.get(current_country_url)\n",
    "            #check for all holidays by XPATH\n",
    "            #try:\n",
    "                #get the elements\n",
    "            elems = self.driver.find_elements(By.XPATH , '//a[@class = \"more color-white bg-yellow font-gotham\"]')\n",
    "            #wait until all elements have been located\n",
    "            WebDriverWait(self.driver, 5).until(EC.presence_of_all_elements_located((By.XPATH , '//a[@class = \"more color-white bg-yellow font-gotham\"]')))\n",
    "            for elem in elems:\n",
    "                #get the href link and append it to the holiday list\n",
    "                dest_link = elem.get_attribute('href')\n",
    "                this_holiday = self.Holiday(dest_link)\n",
    "                list_of_holidays.append(this_holiday.holiday_details())\n",
    "            #if none are found in this area remove the key from the dict\n",
    "            #in this case the some destinations are on an alternate url called hayesfaraway.co.uk\n",
    "            #except:\n",
    "                #add to a list of emty keys in the country dict\n",
    "                #countries_without_holidays.append(country)\n",
    "                #print(f\"{country} has none\")\n",
    "            #assign the list of holidays to the current country\n",
    "            dict_of_countries[country] = list_of_holidays\n",
    "        #remove the empty countries collected in the previous step\n",
    "        #dict_of_countries = self.remove_empty_keys(dict_of_countries,countries_without_holidays)\n",
    "        return dict_of_countries\n"
   ]
  }
 ],
 "metadata": {
  "kernelspec": {
   "display_name": "Python 3.10.4 ('webscrape_env')",
   "language": "python",
   "name": "python3"
  },
  "language_info": {
   "codemirror_mode": {
    "name": "ipython",
    "version": 3
   },
   "file_extension": ".py",
   "mimetype": "text/x-python",
   "name": "python",
   "nbconvert_exporter": "python",
   "pygments_lexer": "ipython3",
   "version": "3.10.4"
  },
  "orig_nbformat": 4,
  "vscode": {
   "interpreter": {
    "hash": "dae6c647992bf42838d0290f56e004180cbf925abec98c407e76f42cfff2bd4c"
   }
  }
 },
 "nbformat": 4,
 "nbformat_minor": 2
}
