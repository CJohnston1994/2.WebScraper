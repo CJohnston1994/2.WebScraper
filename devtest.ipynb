{
 "cells": [
  {
   "cell_type": "markdown",
   "metadata": {},
   "source": []
  },
  {
   "cell_type": "code",
   "execution_count": null,
   "metadata": {},
   "outputs": [],
   "source": [
    "import selenium "
   ]
  },
  {
   "cell_type": "code",
   "execution_count": null,
   "metadata": {},
   "outputs": [],
   "source": [
    "from selenium.webdriver import Chrome"
   ]
  },
  {
   "cell_type": "code",
   "execution_count": null,
   "metadata": {},
   "outputs": [],
   "source": [
    "driver = Chrome()\n",
    "driver.get(\"https://www.google.com\")"
   ]
  },
  {
   "cell_type": "code",
   "execution_count": null,
   "metadata": {},
   "outputs": [],
   "source": [
    "from webdriver_manager.chrome import ChromeDriverManager\n",
    "driver = Chrome(ChromeDriverManager().install())\n",
    "driver.get(\"https://www.python.org\")"
   ]
  },
  {
   "cell_type": "code",
   "execution_count": null,
   "metadata": {},
   "outputs": [],
   "source": [
    "import requests\n"
   ]
  },
  {
   "cell_type": "code",
   "execution_count": null,
   "metadata": {},
   "outputs": [],
   "source": [
    "r = requests.get('https://en.wikipedia.org/wiki/Koala')\n",
    "text = r.text\n"
   ]
  },
  {
   "cell_type": "code",
   "execution_count": null,
   "metadata": {},
   "outputs": [],
   "source": [
    "from bs4 import BeautifulSoup\n",
    "soup = BeautifulSoup(text, \"html.parser\")\n",
    "span = soup.find('span', {'id': 'Etymology'})\n",
    "h2 = span.findParent()\n",
    "p = h2.find_next_sibling()\n",
    "p.text\n"
   ]
  },
  {
   "cell_type": "code",
   "execution_count": null,
   "metadata": {},
   "outputs": [],
   "source": [
    "from selenium.webdriver import Chrome\n",
    "from webdriver_manager.chrome import ChromeDriverManager\n",
    "from selenium.webdriver.common.by import By\n",
    "from selenium.webdriver.chrome.options import Options\n",
    "\n",
    "options = Options()\n",
    "options.add_argument('--headless')\n",
    "\n",
    "driver = Chrome(ChromeDriverManager().install(), options=options)\n",
    "driver.get('https://en.wikipedia.org/wiki/Dog')\n"
   ]
  },
  {
   "cell_type": "code",
   "execution_count": null,
   "metadata": {},
   "outputs": [],
   "source": [
    "#driver.find_element(By.XPATH, '/html/body/div[3]/div[3]/div[1]')\n",
    "searchbar = driver.find_element(By.ID, 'searchInput')"
   ]
  },
  {
   "cell_type": "code",
   "execution_count": null,
   "metadata": {},
   "outputs": [],
   "source": [
    "searchbar.click()\n",
    "searchbar.send_keys('dog')\n",
    "searchbar.send_keys()"
   ]
  },
  {
   "cell_type": "code",
   "execution_count": null,
   "metadata": {},
   "outputs": [],
   "source": [
    "driver.quit()"
   ]
  },
  {
   "cell_type": "code",
   "execution_count": null,
   "metadata": {},
   "outputs": [],
   "source": [
    "from uuid import uuid4 \n",
    "\n",
    "class Holiday:\n",
    "    def __init__(self, url):\n",
    "        self.url = url\n",
    "        self.deterministic_id = url.replace(\"https://www.haystravel.co.uk/\",\"\")\n",
    "        self.uuid = uuid4()\n",
    "\n",
    "    def holiday_details(self):\n",
    "        holiday_details = [self.url, self.deterministic_id, self.uuid]\n",
    "        return holiday_details\n",
    "\n",
    "url = \"https://www.haystravel.co.uk/servigroup-pueblo-benidorm\"\n",
    "test_holiday = Holiday(url)\n",
    "test_holiday.holiday_details()\n",
    "print(test_holiday.holiday_details())"
   ]
  },
  {
   "cell_type": "code",
   "execution_count": null,
   "metadata": {},
   "outputs": [],
   "source": [
    "from selenium.webdriver.support.ui import WebDriverWait\n",
    "from selenium.webdriver.support import expected_conditions as EC\n",
    "from selenium.webdriver import Chrome\n",
    "from selenium.webdriver.common.by import By\n",
    "from selenium.webdriver.chrome.options import Options\n",
    "from webdriver_manager.chrome import ChromeDriverManager\n",
    "from selenium.webdriver.chrome.service import Service\n",
    "import pprint\n",
    "import uuid\n",
    "\n",
    "\n",
    "dict_of_countries = {\"Spain\": \"https\"}"
   ]
  },
  {
   "cell_type": "code",
   "execution_count": null,
   "metadata": {},
   "outputs": [],
   "source": [
    "    def get_holidays_by_country(self, dict_of_countries:dict):\n",
    "        '''\n",
    "        Takes the country url dict and gets all the holidays hrefs from the urls for the countries\n",
    "\n",
    "        '''\n",
    "\n",
    "        #using the keys of the original dict\n",
    "        list_of_countries = dict_of_countries.keys()\n",
    "        countries_without_holidays = []\n",
    "\n",
    "        for country in list_of_countries:\n",
    "            list_of_holidays = []\n",
    "            #get each url within the original dict, using the key\n",
    "            current_country_url = dict_of_countries[country]\n",
    "            self.driver.get(current_country_url)\n",
    "            #check for all holidays by XPATH\n",
    "            #try:\n",
    "                #get the elements\n",
    "            elems = self.driver.find_elements(By.XPATH , '//a[@class = \"more color-white bg-yellow font-gotham\"]')\n",
    "            #wait until all elements have been located\n",
    "            WebDriverWait(self.driver, 5).until(EC.presence_of_all_elements_located((By.XPATH , '//a[@class = \"more color-white bg-yellow font-gotham\"]')))\n",
    "            for elem in elems:\n",
    "                #get the href link and append it to the holiday list\n",
    "                dest_link = elem.get_attribute('href')\n",
    "                this_holiday = self.Holiday(dest_link)\n",
    "                list_of_holidays.append(this_holiday.holiday_details())\n",
    "            #if none are found in this area remove the key from the dict\n",
    "            #in this case the some destinations are on an alternate url called hayesfaraway.co.uk\n",
    "            #except:\n",
    "                #add to a list of emty keys in the country dict\n",
    "                #countries_without_holidays.append(country)\n",
    "                #print(f\"{country} has none\")\n",
    "            #assign the list of holidays to the current country\n",
    "            dict_of_countries[country] = list_of_holidays\n",
    "        #remove the empty countries collected in the previous step\n",
    "        #dict_of_countries = self.remove_empty_keys(dict_of_countries,countries_without_holidays)\n",
    "        return dict_of_countries\n"
   ]
  },
  {
   "cell_type": "markdown",
   "metadata": {},
   "source": []
  },
  {
   "cell_type": "code",
   "execution_count": 16,
   "metadata": {},
   "outputs": [
    {
     "name": "stdout",
     "output_type": "stream",
     "text": [
      "/home/clark/Desktop/AICORE/Code/2.WebScraper/tests/h5jat92k\n",
      "['testdir']\n",
      "/home/clark/Desktop/AICORE/Code/2.WebScraper/tests/h5jat92k\n",
      "Success\n"
     ]
    }
   ],
   "source": [
    "import tempfile, os, shutil\n",
    "\n",
    "test_dir_prefix = os.getcwd() + \"/tests/\"\n",
    "temp_dir = tempfile.mkdtemp(prefix=test_dir_prefix)\n",
    "\n",
    "def directory_exists(directory):\n",
    "    working_dir = os.getcwd()\n",
    "    try:\n",
    "        os.chdir(directory)\n",
    "        os.mkdir(\"testdir\")\n",
    "        contents =os.listdir(directory)\n",
    "        print(contents)\n",
    "        print(os.getcwd())\n",
    "        shutil.rmtree(directory)\n",
    "\n",
    "        return True\n",
    "    except:\n",
    "        return False\n",
    "    finally:\n",
    "        os.chdir(working_dir)\n",
    "\n",
    "\n",
    "if directory_exists(temp_dir):\n",
    "    print(\"Success\")\n",
    "else:\n",
    "    print(\"Fail\")\n"
   ]
  },
  {
   "cell_type": "code",
   "execution_count": 17,
   "metadata": {},
   "outputs": [
    {
     "ename": "KeyError",
     "evalue": "'Jullember'",
     "output_type": "error",
     "traceback": [
      "\u001b[0;31m---------------------------------------------------------------------------\u001b[0m",
      "\u001b[0;31mKeyError\u001b[0m                                  Traceback (most recent call last)",
      "\u001b[1;32m/home/clark/Desktop/AICORE/Code/2.WebScraper/devtest.ipynb Cell 18'\u001b[0m in \u001b[0;36m<cell line: 15>\u001b[0;34m()\u001b[0m\n\u001b[1;32m      <a href='vscode-notebook-cell:/home/clark/Desktop/AICORE/Code/2.WebScraper/devtest.ipynb#ch0000017?line=0'>1</a>\u001b[0m month \u001b[39m=\u001b[39m {\u001b[39m\"\u001b[39m\u001b[39mJanuary\u001b[39m\u001b[39m\"\u001b[39m: \u001b[39m\"\u001b[39m\u001b[39m01\u001b[39m\u001b[39m\"\u001b[39m,\n\u001b[1;32m      <a href='vscode-notebook-cell:/home/clark/Desktop/AICORE/Code/2.WebScraper/devtest.ipynb#ch0000017?line=1'>2</a>\u001b[0m             \u001b[39m\"\u001b[39m\u001b[39mFebruary\u001b[39m\u001b[39m\"\u001b[39m: \u001b[39m\"\u001b[39m\u001b[39m02\u001b[39m\u001b[39m\"\u001b[39m,\n\u001b[1;32m      <a href='vscode-notebook-cell:/home/clark/Desktop/AICORE/Code/2.WebScraper/devtest.ipynb#ch0000017?line=2'>3</a>\u001b[0m             \u001b[39m\"\u001b[39m\u001b[39mMarch\u001b[39m\u001b[39m\"\u001b[39m: \u001b[39m\"\u001b[39m\u001b[39m03\u001b[39m\u001b[39m\"\u001b[39m,\n\u001b[0;32m   (...)\u001b[0m\n\u001b[1;32m     <a href='vscode-notebook-cell:/home/clark/Desktop/AICORE/Code/2.WebScraper/devtest.ipynb#ch0000017?line=11'>12</a>\u001b[0m             \u001b[39m\"\u001b[39m\u001b[39mDecember\u001b[39m\u001b[39m\"\u001b[39m: \u001b[39m\"\u001b[39m\u001b[39m12\u001b[39m\u001b[39m\"\u001b[39m\n\u001b[1;32m     <a href='vscode-notebook-cell:/home/clark/Desktop/AICORE/Code/2.WebScraper/devtest.ipynb#ch0000017?line=12'>13</a>\u001b[0m         }\n\u001b[0;32m---> <a href='vscode-notebook-cell:/home/clark/Desktop/AICORE/Code/2.WebScraper/devtest.ipynb#ch0000017?line=14'>15</a>\u001b[0m new_month \u001b[39m=\u001b[39m month[\u001b[39m\"\u001b[39;49m\u001b[39mJullember\u001b[39;49m\u001b[39m\"\u001b[39;49m]\n\u001b[1;32m     <a href='vscode-notebook-cell:/home/clark/Desktop/AICORE/Code/2.WebScraper/devtest.ipynb#ch0000017?line=15'>16</a>\u001b[0m \u001b[39mprint\u001b[39m(new_month)\n",
      "\u001b[0;31mKeyError\u001b[0m: 'Jullember'"
     ]
    }
   ],
   "source": [
    "month = {\"January\": \"01\",\n",
    "            \"February\": \"02\",\n",
    "            \"March\": \"03\",\n",
    "            \"April\": \"04\",\n",
    "            \"May\": \"05\",\n",
    "            \"June\": \"06\",\n",
    "            \"July\": \"07\",\n",
    "            \"August\": \"08\",\n",
    "            \"September\": \"09\",\n",
    "            \"October\": \"10\",\n",
    "            \"November\": \"11\",\n",
    "            \"December\": \"12\"\n",
    "        }\n",
    "\n",
    "new_month = month[\"Jullember\"]\n",
    "print(new_month)"
   ]
  }
 ],
 "metadata": {
  "kernelspec": {
   "display_name": "Python 3.10.4 ('webscrape_env')",
   "language": "python",
   "name": "python3"
  },
  "language_info": {
   "codemirror_mode": {
    "name": "ipython",
    "version": 3
   },
   "file_extension": ".py",
   "mimetype": "text/x-python",
   "name": "python",
   "nbconvert_exporter": "python",
   "pygments_lexer": "ipython3",
   "version": "3.10.4"
  },
  "orig_nbformat": 4,
  "vscode": {
   "interpreter": {
    "hash": "dae6c647992bf42838d0290f56e004180cbf925abec98c407e76f42cfff2bd4c"
   }
  }
 },
 "nbformat": 4,
 "nbformat_minor": 2
}
