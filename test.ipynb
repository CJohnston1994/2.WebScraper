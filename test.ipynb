{
 "cells": [
  {
   "cell_type": "code",
   "execution_count": 4,
   "metadata": {},
   "outputs": [
    {
     "name": "stdout",
     "output_type": "stream",
     "text": [
      "\n"
     ]
    },
    {
     "name": "stderr",
     "output_type": "stream",
     "text": [
      "[WDM] - ====== WebDriver manager ======\n",
      "[WDM] - Current google-chrome version is 102.0.5005\n",
      "[WDM] - Get LATEST chromedriver version for 102.0.5005 google-chrome\n",
      "[WDM] - Driver [/home/clark/.wdm/drivers/chromedriver/linux64/102.0.5005.61/chromedriver] found in cache\n"
     ]
    },
    {
     "name": "stdout",
     "output_type": "stream",
     "text": [
      "Container not found\n",
      "None\n"
     ]
    },
    {
     "ename": "NoSuchElementException",
     "evalue": "Message: no such element: Unable to locate element: {\"method\":\"xpath\",\"selector\":\"//div[@class=\"resort color-yellow font-gotham\"]\"}\n  (Session info: headless chrome=102.0.5005.61)\nStacktrace:\n#0 0x55c815db1f33 <unknown>\n#1 0x55c815afc118 <unknown>\n#2 0x55c815b323f7 <unknown>\n#3 0x55c815b325c1 <unknown>\n#4 0x55c815b655c4 <unknown>\n#5 0x55c815b4ff9d <unknown>\n#6 0x55c815b632e4 <unknown>\n#7 0x55c815b4fe63 <unknown>\n#8 0x55c815b2582a <unknown>\n#9 0x55c815b26985 <unknown>\n#10 0x55c815df64cd <unknown>\n#11 0x55c815dfa5ec <unknown>\n#12 0x55c815de071e <unknown>\n#13 0x55c815dfb238 <unknown>\n#14 0x55c815dd5870 <unknown>\n#15 0x55c815e17608 <unknown>\n#16 0x55c815e17788 <unknown>\n#17 0x55c815e31f1d <unknown>\n#18 0x7f1e31d85609 <unknown>\n",
     "output_type": "error",
     "traceback": [
      "\u001b[0;31m---------------------------------------------------------------------------\u001b[0m",
      "\u001b[0;31mNoSuchElementException\u001b[0m                    Traceback (most recent call last)",
      "\u001b[1;32m/home/clark/Desktop/AICORE/Code/2.WebScraper/test.ipynb Cell 1'\u001b[0m in \u001b[0;36m<cell line: 5>\u001b[0;34m()\u001b[0m\n\u001b[1;32m      <a href='vscode-notebook-cell:/home/clark/Desktop/AICORE/Code/2.WebScraper/test.ipynb#ch0000000?line=1'>2</a>\u001b[0m \u001b[39mfrom\u001b[39;00m \u001b[39mselenium\u001b[39;00m\u001b[39m.\u001b[39;00m\u001b[39mwebdriver\u001b[39;00m\u001b[39m.\u001b[39;00m\u001b[39mcommon\u001b[39;00m\u001b[39m.\u001b[39;00m\u001b[39mby\u001b[39;00m \u001b[39mimport\u001b[39;00m By\n\u001b[1;32m      <a href='vscode-notebook-cell:/home/clark/Desktop/AICORE/Code/2.WebScraper/test.ipynb#ch0000000?line=3'>4</a>\u001b[0m bot \u001b[39m=\u001b[39m Scraper()\n\u001b[0;32m----> <a href='vscode-notebook-cell:/home/clark/Desktop/AICORE/Code/2.WebScraper/test.ipynb#ch0000000?line=4'>5</a>\u001b[0m holiday \u001b[39m=\u001b[39m bot\u001b[39m.\u001b[39;49mholiday_details(\u001b[39m\"\u001b[39;49m\u001b[39mSpain\u001b[39;49m\u001b[39m\"\u001b[39;49m)\n\u001b[1;32m      <a href='vscode-notebook-cell:/home/clark/Desktop/AICORE/Code/2.WebScraper/test.ipynb#ch0000000?line=5'>6</a>\u001b[0m holiday\u001b[39m.\u001b[39mfind_container(\u001b[39m'\u001b[39m\u001b[39m.//div[@class=\u001b[39m\u001b[39m\"\u001b[39m\u001b[39mresort color-yellow font-gotham\u001b[39m\u001b[39m\"\u001b[39m\u001b[39m]\u001b[39m\u001b[39m'\u001b[39m)\n",
      "File \u001b[0;32m~/Desktop/AICORE/Code/2.WebScraper/webscraper.py:158\u001b[0m, in \u001b[0;36mholiday_details\u001b[0;34m(self, country)\u001b[0m\n\u001b[1;32m    156\u001b[0m url \u001b[39m=\u001b[39m \u001b[39mself\u001b[39m\u001b[39m.\u001b[39mdriver\u001b[39m.\u001b[39mcurrent_url\n\u001b[1;32m    157\u001b[0m holiday_id \u001b[39m=\u001b[39m \u001b[39mstr\u001b[39m(uuid\u001b[39m.\u001b[39muuid4())\n\u001b[0;32m--> 158\u001b[0m deterministic_id \u001b[39m=\u001b[39m url\u001b[39m.\u001b[39mreplace(\u001b[39m\"\u001b[39m\u001b[39mhttps://www.haystravel.co.uk/\u001b[39m\u001b[39m\"\u001b[39m,\u001b[39m\"\u001b[39m\u001b[39m\"\u001b[39m)\n\u001b[1;32m    159\u001b[0m hotel \u001b[39m=\u001b[39m \u001b[39mself\u001b[39m\u001b[39m.\u001b[39mdriver\u001b[39m.\u001b[39mfind_element(By\u001b[39m.\u001b[39mXPATH, \u001b[39m'\u001b[39m\u001b[39m//div[@class=\u001b[39m\u001b[39m\"\u001b[39m\u001b[39mresort color-yellow font-gotham\u001b[39m\u001b[39m\"\u001b[39m\u001b[39m]\u001b[39m\u001b[39m'\u001b[39m)\u001b[39m.\u001b[39mget_attribute(\u001b[39m'\u001b[39m\u001b[39minnerText\u001b[39m\u001b[39m'\u001b[39m)\n\u001b[1;32m    160\u001b[0m resort \u001b[39m=\u001b[39m \u001b[39mself\u001b[39m\u001b[39m.\u001b[39mdriver\u001b[39m.\u001b[39mfind_element(By\u001b[39m.\u001b[39mCLASS_NAME, \u001b[39m'\u001b[39m\u001b[39mresort\u001b[39m\u001b[39m'\u001b[39m)\u001b[39m.\u001b[39mget_attribute(\u001b[39m'\u001b[39m\u001b[39minnerText\u001b[39m\u001b[39m'\u001b[39m)\n",
      "File \u001b[0;32m~/miniconda3/envs/webscrape_env/lib/python3.10/site-packages/selenium/webdriver/remote/webdriver.py:1251\u001b[0m, in \u001b[0;36mWebDriver.find_element\u001b[0;34m(self, by, value)\u001b[0m\n\u001b[1;32m   1248\u001b[0m     by \u001b[39m=\u001b[39m By\u001b[39m.\u001b[39mCSS_SELECTOR\n\u001b[1;32m   1249\u001b[0m     value \u001b[39m=\u001b[39m \u001b[39m'\u001b[39m\u001b[39m[name=\u001b[39m\u001b[39m\"\u001b[39m\u001b[39m%s\u001b[39;00m\u001b[39m\"\u001b[39m\u001b[39m]\u001b[39m\u001b[39m'\u001b[39m \u001b[39m%\u001b[39m value\n\u001b[0;32m-> 1251\u001b[0m \u001b[39mreturn\u001b[39;00m \u001b[39mself\u001b[39;49m\u001b[39m.\u001b[39;49mexecute(Command\u001b[39m.\u001b[39;49mFIND_ELEMENT, {\n\u001b[1;32m   1252\u001b[0m     \u001b[39m'\u001b[39;49m\u001b[39musing\u001b[39;49m\u001b[39m'\u001b[39;49m: by,\n\u001b[1;32m   1253\u001b[0m     \u001b[39m'\u001b[39;49m\u001b[39mvalue\u001b[39;49m\u001b[39m'\u001b[39;49m: value})[\u001b[39m'\u001b[39m\u001b[39mvalue\u001b[39m\u001b[39m'\u001b[39m]\n",
      "File \u001b[0;32m~/miniconda3/envs/webscrape_env/lib/python3.10/site-packages/selenium/webdriver/remote/webdriver.py:430\u001b[0m, in \u001b[0;36mWebDriver.execute\u001b[0;34m(self, driver_command, params)\u001b[0m\n\u001b[1;32m    428\u001b[0m response \u001b[39m=\u001b[39m \u001b[39mself\u001b[39m\u001b[39m.\u001b[39mcommand_executor\u001b[39m.\u001b[39mexecute(driver_command, params)\n\u001b[1;32m    429\u001b[0m \u001b[39mif\u001b[39;00m response:\n\u001b[0;32m--> 430\u001b[0m     \u001b[39mself\u001b[39;49m\u001b[39m.\u001b[39;49merror_handler\u001b[39m.\u001b[39;49mcheck_response(response)\n\u001b[1;32m    431\u001b[0m     response[\u001b[39m'\u001b[39m\u001b[39mvalue\u001b[39m\u001b[39m'\u001b[39m] \u001b[39m=\u001b[39m \u001b[39mself\u001b[39m\u001b[39m.\u001b[39m_unwrap_value(\n\u001b[1;32m    432\u001b[0m         response\u001b[39m.\u001b[39mget(\u001b[39m'\u001b[39m\u001b[39mvalue\u001b[39m\u001b[39m'\u001b[39m, \u001b[39mNone\u001b[39;00m))\n\u001b[1;32m    433\u001b[0m     \u001b[39mreturn\u001b[39;00m response\n",
      "File \u001b[0;32m~/miniconda3/envs/webscrape_env/lib/python3.10/site-packages/selenium/webdriver/remote/errorhandler.py:247\u001b[0m, in \u001b[0;36mErrorHandler.check_response\u001b[0;34m(self, response)\u001b[0m\n\u001b[1;32m    245\u001b[0m         alert_text \u001b[39m=\u001b[39m value[\u001b[39m'\u001b[39m\u001b[39malert\u001b[39m\u001b[39m'\u001b[39m]\u001b[39m.\u001b[39mget(\u001b[39m'\u001b[39m\u001b[39mtext\u001b[39m\u001b[39m'\u001b[39m)\n\u001b[1;32m    246\u001b[0m     \u001b[39mraise\u001b[39;00m exception_class(message, screen, stacktrace, alert_text)  \u001b[39m# type: ignore[call-arg]  # mypy is not smart enough here\u001b[39;00m\n\u001b[0;32m--> 247\u001b[0m \u001b[39mraise\u001b[39;00m exception_class(message, screen, stacktrace)\n",
      "\u001b[0;31mNoSuchElementException\u001b[0m: Message: no such element: Unable to locate element: {\"method\":\"xpath\",\"selector\":\"//div[@class=\"resort color-yellow font-gotham\"]\"}\n  (Session info: headless chrome=102.0.5005.61)\nStacktrace:\n#0 0x55c815db1f33 <unknown>\n#1 0x55c815afc118 <unknown>\n#2 0x55c815b323f7 <unknown>\n#3 0x55c815b325c1 <unknown>\n#4 0x55c815b655c4 <unknown>\n#5 0x55c815b4ff9d <unknown>\n#6 0x55c815b632e4 <unknown>\n#7 0x55c815b4fe63 <unknown>\n#8 0x55c815b2582a <unknown>\n#9 0x55c815b26985 <unknown>\n#10 0x55c815df64cd <unknown>\n#11 0x55c815dfa5ec <unknown>\n#12 0x55c815de071e <unknown>\n#13 0x55c815dfb238 <unknown>\n#14 0x55c815dd5870 <unknown>\n#15 0x55c815e17608 <unknown>\n#16 0x55c815e17788 <unknown>\n#17 0x55c815e31f1d <unknown>\n#18 0x7f1e31d85609 <unknown>\n"
     ]
    }
   ],
   "source": [
    "from webscraper import Scraper\n",
    "from selenium.webdriver.common.by import By\n",
    "\n",
    "bot = Scraper()\n",
    "holiday = bot.holiday_details(\"Spain\")\n",
    "holiday.find_container('.//div[@class=\"resort color-yellow font-gotham\"]')"
   ]
  },
  {
   "cell_type": "code",
   "execution_count": null,
   "metadata": {},
   "outputs": [],
   "source": []
  },
  {
   "cell_type": "markdown",
   "metadata": {},
   "source": [
    "/html/body/div[3]/div/div/div[1]/div[3]/div[3]\n",
    "/html/body/div[3]/div/div/div[2]/div[1]/div[3]/div[1]/div[2]/p"
   ]
  }
 ],
 "metadata": {
  "kernelspec": {
   "display_name": "Python 3.10.4 ('webscrape_env')",
   "language": "python",
   "name": "python3"
  },
  "language_info": {
   "codemirror_mode": {
    "name": "ipython",
    "version": 3
   },
   "file_extension": ".py",
   "mimetype": "text/x-python",
   "name": "python",
   "nbconvert_exporter": "python",
   "pygments_lexer": "ipython3",
   "version": "3.10.4"
  },
  "orig_nbformat": 4,
  "vscode": {
   "interpreter": {
    "hash": "dae6c647992bf42838d0290f56e004180cbf925abec98c407e76f42cfff2bd4c"
   }
  }
 },
 "nbformat": 4,
 "nbformat_minor": 2
}
